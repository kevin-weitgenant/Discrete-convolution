{
  "nbformat": 4,
  "nbformat_minor": 0,
  "metadata": {
    "colab": {
      "provenance": [],
      "collapsed_sections": [],
      "authorship_tag": "ABX9TyNq/K/cB+r5ix07mVVt8cO7",
      "include_colab_link": true
    },
    "kernelspec": {
      "name": "python3",
      "display_name": "Python 3"
    },
    "language_info": {
      "name": "python"
    }
  },
  "cells": [
    {
      "cell_type": "markdown",
      "metadata": {
        "id": "view-in-github",
        "colab_type": "text"
      },
      "source": [
        "<a href=\"https://colab.research.google.com/github/kevin-weitgenant/Discrete-convolution/blob/main/trabalho_sinais.ipynb\" target=\"_parent\"><img src=\"https://colab.research.google.com/assets/colab-badge.svg\" alt=\"Open In Colab\"/></a>"
      ]
    },
    {
      "cell_type": "markdown",
      "source": [
        "# load data"
      ],
      "metadata": {
        "id": "A68mnTUBTSUJ"
      }
    },
    {
      "cell_type": "code",
      "execution_count": null,
      "metadata": {
        "colab": {
          "base_uri": "https://localhost:8080/"
        },
        "id": "P54mJxOzPS2w",
        "outputId": "7195214f-4568-45d2-88e8-dd99c432de52"
      },
      "outputs": [
        {
          "output_type": "stream",
          "name": "stdout",
          "text": [
            "arquivos csv não informados, será utilizada função padrão definida no relatório\n"
          ]
        },
        {
          "output_type": "execute_result",
          "data": {
            "text/plain": [
              "(array([0, 1, 2, 3, 4]),\n",
              " array([1, 1, 1, 1, 1]),\n",
              " array([0, 1, 2, 3, 4, 5, 6]),\n",
              " array([ 1,  2,  4,  8, 16, 32, 64]))"
            ]
          },
          "metadata": {},
          "execution_count": 1
        }
      ],
      "source": [
        "import numpy as np\n",
        "import matplotlib.pyplot as plt\n",
        "  \n",
        "try:\n",
        "  X = np.genfromtxt('x.csv', delimiter=',',dtype = int)\n",
        "  H = np.genfromtxt('h.csv', delimiter=',',dtype = int)\n",
        "  X_idx,X_values = X[0::2],X[1::2]\n",
        "  H_idx,H_values = H[0::2],H[1::2]\n",
        "except:\n",
        "  print(\"arquivos csv não informados, será utilizada função padrão definida no relatório\")\n",
        "  X_idx = np.array([0, 1, 2, 3, 4])\n",
        "  X_values = np.array([1, 1, 1, 1, 1])\n",
        "  H_idx = np.array([0, 1, 2, 3, 4, 5, 6])\n",
        "  H_values = np.array([1,  2,  4,  8, 16, 32, 64])\n",
        "\n",
        "\n",
        "\n",
        "X_idx,X_values,H_idx,H_values"
      ]
    },
    {
      "cell_type": "markdown",
      "source": [
        "# discrete convolution"
      ],
      "metadata": {
        "id": "WFkYJEwXTePz"
      }
    },
    {
      "cell_type": "code",
      "source": [
        "def multiplyGraphsAndSum(X_idx,X_values,H_idx,H_values):\n",
        "  result = 0\n",
        "  positions = np.intersect1d(X_idx,H_idx)\n",
        "  result =  np.sum([X_values[np.where(X_idx == item)] * H_values[np.where(H_idx == item)] for item in positions ])\n",
        "  return result\n",
        "\n",
        "def convolution(X_idx,X_values,H_idx,H_values):\n",
        "  H_idx *= -1\n",
        "  Y_values = []\n",
        "  count = 0\n",
        "  \n",
        "  start_shift = min(X_idx) - max(H_idx)   #calcular o quanto arrastar pra primeira intersecção de apenas 1 valor:\n",
        "  H_idx = H_idx + start_shift\n",
        "  while(min(H_idx) != max(X_idx)+1):\n",
        "    Y_values.append(multiplyGraphsAndSum(X_idx,X_values,H_idx,H_values))  \n",
        "    H_idx +=1\n",
        "    count+=1\n",
        "  Y_idx = np.arange(start_shift,start_shift+count)\n",
        "\n",
        "  return Y_idx,Y_values\n"
      ],
      "metadata": {
        "id": "3GhvXWWPQtLh"
      },
      "execution_count": null,
      "outputs": []
    },
    {
      "cell_type": "markdown",
      "source": [
        "# create graph:"
      ],
      "metadata": {
        "id": "jk3b1xaxTM3K"
      }
    },
    {
      "cell_type": "code",
      "source": [
        "plt.subplot(2, 2, 1)\n",
        "plt.xticks([])\n",
        "plt.title(\"X[k]\")  \n",
        "plt.stem(X_idx,X_values,use_line_collection= True)\n",
        "plt.subplot(2, 2, 2)\n",
        "plt.title(\"H[-k]\")  \n",
        "plt.stem(H_idx,H_values,use_line_collection= True)\n",
        "plt.subplot(2, 2, 3)\n",
        "plt.title(\"Y[n]\")  \n",
        "x,y=convolution(X_idx,X_values,H_idx,H_values)\n",
        "plt.stem(x,y,use_line_collection = True)\n",
        "plt.plot(use_line_collection= True)\n",
        "plt.rcParams[\"figure.figsize\"] = (50,50)\n",
        "plt.savefig('my_plot.png')\n",
        "\n",
        "\n"
      ],
      "metadata": {
        "colab": {
          "base_uri": "https://localhost:8080/",
          "height": 281
        },
        "id": "cbYHwzBNPFTH",
        "outputId": "321f314c-781d-462d-ad96-302be1ae3770"
      },
      "execution_count": null,
      "outputs": [
        {
          "output_type": "display_data",
          "data": {
            "text/plain": [
              "<Figure size 432x288 with 3 Axes>"
            ],
            "image/png": "[encoded data removed]"
          },
          "metadata": {
            "needs_background": "light"
          }
        }
      ]
    }
  ]
}